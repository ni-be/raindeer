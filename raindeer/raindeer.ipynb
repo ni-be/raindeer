{
 "cells": [
  {
   "cell_type": "markdown",
   "metadata": {
    "collapsed": true
   },
   "source": [
    "# Raindeer: Weather in Germany over the past centuries"
   ]
  },
  {
   "cell_type": "markdown",
   "metadata": {},
   "source": [
    "## Motivation:\n",
    "The aim of this project is to provide an intuitive tool to visualize and analyze weather data from all german states in a clear and easy manner while providing more advanced analysis tools for users that want to have a more in-depth look at the topic. For this reason there are several functional modes to the tool that can be selected."
   ]
  },
  {
   "cell_type": "markdown",
   "metadata": {},
   "source": [
    "## Setup:"
   ]
  },
  {
   "cell_type": "code",
   "execution_count": 1,
   "metadata": {},
   "outputs": [
    {
     "ename": "SyntaxError",
     "evalue": "invalid syntax (dwd_downloader.py, line 40)",
     "output_type": "error",
     "traceback": [
      "Traceback \u001b[1;36m(most recent call last)\u001b[0m:\n",
      "  File \u001b[0;32m\"C:\\Users\\Joul\\anaconda3\\lib\\site-packages\\IPython\\core\\interactiveshell.py\"\u001b[0m, line \u001b[0;32m3331\u001b[0m, in \u001b[0;35mrun_code\u001b[0m\n    exec(code_obj, self.user_global_ns, self.user_ns)\n",
      "  File \u001b[0;32m\"<ipython-input-1-2c960b21ee89>\"\u001b[0m, line \u001b[0;32m2\u001b[0m, in \u001b[0;35m<module>\u001b[0m\n    from data_helper import *\n",
      "\u001b[1;36m  File \u001b[1;32m\"C:\\Users\\Joul\\Downloads\\University\\23 Sommersem\\Research Software Engeneering\\Raindeer\\src\\data_helper.py\"\u001b[1;36m, line \u001b[1;32m5\u001b[1;36m, in \u001b[1;35m<module>\u001b[1;36m\u001b[0m\n\u001b[1;33m    from dwd_downloader import dwd_downloader\u001b[0m\n",
      "\u001b[1;36m  File \u001b[1;32m\"C:\\Users\\Joul\\Downloads\\University\\23 Sommersem\\Research Software Engeneering\\Raindeer\\src\\dwd_downloader.py\"\u001b[1;36m, line \u001b[1;32m40\u001b[0m\n\u001b[1;33m    case \"monthly\":\u001b[0m\n\u001b[1;37m                 ^\u001b[0m\n\u001b[1;31mSyntaxError\u001b[0m\u001b[1;31m:\u001b[0m invalid syntax\n"
     ]
    }
   ],
   "source": [
    "import argparse\n",
    "from data_helper import *\n",
    "from dataframe_helper import *\n",
    "from user_stories import *\n",
    "import pandas as pd\n",
    "from typing import List\n",
    "import argument_preprocessing as argpre\n",
    "import user_stories\n",
    "import utilities as utils\n",
    "from IPython.display import Image, display"
   ]
  },
  {
   "cell_type": "markdown",
   "metadata": {},
   "source": [
    "## Getting started:\n",
    "One first things one would want to do when analyzing data is to get the data itself from a desired source, in our case this would be the page of the Deutscher Wetterdienst. The software has  functionality to do just that. For this purpose we use the dataframe_helper function, it takes the arguments:\n",
    "\n",
    "\n",
    "``data``: takes either a list or string of possible dataset types used by the Dwd.\n",
    "\n",
    "``interval``: takes either a string or list with the either of following two parameters \"monthly\" or \"annual\"\n",
    "\n",
    "``month_range``: define the months used in dataframe only for interval monthly\n",
    "\n",
    "``option`` is True or False - Write or read only \"w\" for write, \"r\" for df output only.\n",
    "\n",
    "In practice it works like this:"
   ]
  },
  {
   "cell_type": "code",
   "execution_count": null,
   "metadata": {},
   "outputs": [],
   "source": [
    "dataframe_helper(['precipitation', 'sunshine_duration', 'air_temperature_mean'], 'annual', '01', 'w')"
   ]
  },
  {
   "cell_type": "markdown",
   "metadata": {},
   "source": [
    "As we can see this took the desired data from the website of the Dwd and gave us csv tables for all given inputs datasets. This data can now be further processed and used with the other functionalities of the software."
   ]
  },
  {
   "cell_type": "markdown",
   "metadata": {},
   "source": [
    "##  Generating the first plot\n",
    "Now that we have data lets see what we can do with it, for starters, lets just visualize the precipitation in germany for all years that we have data. For this we use the function ``plot_between_years`` in the simple plotting mode, it also can be used to create very customized plots which we will see later.\n",
    "\n",
    "It uses a series of imput parameters:\n",
    "\n",
    "``data``: takes either a list or string of possible dataset types used by the Dwd.\n",
    "\n",
    "``interval``: takes either a string or list with the either of following two parameters \"monthly\" or \"annual\"\n",
    "\n",
    "``yearsmonths``: define the years and months used in dataframe as a list of 2 6-digit strings representing a year followed by a month.\n",
    "\n",
    "``state`` define the state which should be plotted.\n",
    "\n",
    "``case`` define what kind of labels should be put on the plot from ``rain, temp, sun``.\n",
    "\n",
    "``mode`` defines if the ``simple`` or ``custom`` plotting function should be used, the custom function takes a lot of inputs after execution to define how the plot shoul look. When choosing ``custom`` the previous parameters become unnecessary. "
   ]
  },
  {
   "cell_type": "code",
   "execution_count": null,
   "metadata": {},
   "outputs": [],
   "source": [
    "plot_between_years('precipitation', 'monthly', [198101, 202101], 'deutschland', 'rain', 'simple')"
   ]
  },
  {
   "cell_type": "markdown",
   "metadata": {},
   "source": [
    "## Plotting multiple weather parameters at once / What are general developments in the weather data?\n",
    "Next lets look at how we can display multiple weather parameters at once to look at trends and correltation in the data. For this we use the functionality ``plot_weather_parameters_annual``. It lets us plot precipitation, sunshine and temperature at once. With this we can look at possible correlations between the three parameters in the dwd-data. \n",
    "\n",
    "The ``plot_weather_parameters_annual`` function uses a bunch of parameters:\n",
    "\n",
    "``time``: uses a list of years to plot from the dataset\n",
    "\n",
    "``place``: takes a string specifiying the state for the data to be plotted.\n",
    "\n",
    "``data``: takes the path of the dataset for the plot"
   ]
  },
  {
   "cell_type": "code",
   "execution_count": null,
   "metadata": {},
   "outputs": [],
   "source": [
    "plot_weather_parameters_annual([1981, 1991, 2001, 2011, 2021], \"Deutschland\", f\"{parent_dir}/raindeer/data/annual\")"
   ]
  },
  {
   "cell_type": "markdown",
   "metadata": {},
   "source": [
    "As we can see from the excerpt of years we plotted there seems to be a correlation between rain and sunshine which is intuitive given the reason why rain occurs beeing clouds. Temperature on the other hand just shows an increase on average through the years which is caused by climate change. this increasing trend will show up in the next segment again."
   ]
  },
  {
   "cell_type": "markdown",
   "metadata": {},
   "source": [
    "## Forecasting weather data\n",
    "The software allows the user to do simple linear regression forecasting of the current temperature data at hand. This might be useful for short term prediction but is not meant for long time forecasting as a linear regression is not sophisticated enough to do that. To use this functionality we use the function ``predict_temperature_next_year``. It doesn't need any additional input as it uses the full dataset we saved as csv earlier. The result looks like this:"
   ]
  },
  {
   "cell_type": "code",
   "execution_count": null,
   "metadata": {},
   "outputs": [],
   "source": [
    "predict_temperature_next_year()"
   ]
  },
  {
   "cell_type": "markdown",
   "metadata": {},
   "source": [
    "As we can see the prediction for the mean temperature in the next year is 10 degrees celsius. In the data a linear warming trend is clearly visible that is in line with the phenomenon of global warming. The linear regression shows a warming in germany of about 2 degrees which is quite substantial."
   ]
  },
  {
   "cell_type": "markdown",
   "metadata": {},
   "source": [
    "## Looking for patterns in the weather data\n",
    "So far we looked at the weather data as a plot of time to find possible patterns or developments and even made a small forecast. We now want to take a different approach to finding patterns in the data, Fourier-Analysis. With Fourier-Analysis we tranform our data from time-basis to frequency-basis, which will show repeating patterns in the data clearly. The function used is ``fourier`` and takes a csv dataframe of choice, it also need to be given the type of weather data used to generate the correct plot handles. Then it does the Fourier-Transformation and displays the frequency data\n",
    "\n",
    "It needs the following parameters to work:\n",
    "\n",
    "``data``: takes string which specifies the dataset.\n",
    "\n",
    "``interval``: takes a string with the either of following two parameters \"monthly\" or \"annual\"\n",
    "\n",
    "``state``: define the state which should be analized\n",
    "\n",
    "``case``: gives the program the information for the plot handles"
   ]
  },
  {
   "cell_type": "code",
   "execution_count": null,
   "metadata": {},
   "outputs": [],
   "source": [
    "fourier_analysis('air_temperature_mean', 'monthly', ['deutschland'], 'temp')"
   ]
  },
  {
   "cell_type": "markdown",
   "metadata": {},
   "source": [
    "As we can see there are multiple frequency spikes in the data. Ingoring the spike at zero as it just refers to an infinite peroid we see spikes up to a frequency of about 0.41. The spike at 0.08 is the annual temperature period. There are frequency spikes closer to zero which refer to longer timescales."
   ]
  },
  {
   "cell_type": "markdown",
   "metadata": {},
   "source": [
    "# simple-plot\n",
    "\n",
    "Another way to visualize data, is via the simple-plot mode.\n",
    "With this mode we can visualize date based on three different input parameters:\n",
    "1. The timerange (month, year)\n",
    "2. The Bundesländer (Brandenburg, Berlin...)\n",
    "3. The weather phenomenom (temperature, precipitation...)\n",
    "\n",
    "We can make use of the fact, that each input parameter can have multipe values (or a range of values),  to answer a varriety of research questions.\n",
    "\n",
    "We can, for example compare different Bundesländer, with regards to any of the available \"weather phenomenoms\" and timeframes.\n",
    "If we want to compare the precipitation in \"Brandenburg\", \"Hessen\" und \"Bayern\" from the year 1981 to 2022, we simple need to input thous parameteres and get the following graph:"
   ]
  },
  {
   "cell_type": "code",
   "execution_count": null,
   "metadata": {},
   "outputs": [],
   "source": [
    "!python ../src/raindeer.py ../data/annual --outfile \"../results/user_stories/plots/simple_plot1.png\" --mode=simple-plot -y 1981..2022 -b \"brandenburg\" \"hessen\" \"bayern\" -w \"precipitation\"\n",
    "\n",
    "display(Image(filename = \"../results/user_stories/plots/simple_plot1.png\"))"
   ]
  },
  {
   "cell_type": "markdown",
   "metadata": {},
   "source": [
    "We can also compare multiple different weather phenomenon in different Bundesländern. If we, for example, compare Brandenburg and Hessen we see, that Hessen has more precipitation and less sunshine duration.\n",
    "\n",
    "This is verry useful, when analyzing the correlation between different weather phenomenons. In this example, we can see that more precipitation evidently correlates to less sunshine duration."
   ]
  },
  {
   "cell_type": "code",
   "execution_count": null,
   "metadata": {},
   "outputs": [],
   "source": [
    "!python ../src/raindeer.py ../data/annual --outfile \"../results/user_stories/plots/simple_plot2.png\" --mode=simple-plot -y 1981..2022 -b \"brandenburg\" \"hessen\" -w \"precipitation\" \"sun\"\n",
    "\n",
    "display(Image(filename = \"../results/user_stories/plots/simple_plot2.png\"))"
   ]
  },
  {
   "cell_type": "markdown",
   "metadata": {},
   "source": [
    "Lastly, it is also possible to employ a monthly range "
   ]
  },
  {
   "cell_type": "code",
   "execution_count": null,
   "metadata": {},
   "outputs": [],
   "source": [
    "!python ../src/raindeer.py ../data/annual --outfile \"../results/user_stories/plots/simple_plot3.png\" --mode=simple-plot -y 2022 -m \"January..December\" -b \"brandenburg\" \"hessen\" \"bayern\" -w \"precipitation\"\n",
    "\n",
    "display(Image(filename = \"../results/user_stories/plots/simple_plot3.png\"))"
   ]
  },
  {
   "cell_type": "markdown",
   "metadata": {},
   "source": [
    "## Summary\n",
    "As we have seen this software provides many opportunities to look at the weather in germany for quite some time. Using the diffrent functionalities of the software several research questions were answered. We have seen that sunshine and rain are as expected correlated with eachother were more rain means less sunshine. Additionaly we have seen that there is a definitive rising trend in the temperature data in germany from both the single plot and the plot of all weather parameters. We then used linear regression to fit this rise in temperature and predicted the temperature for the coming year which worked out to be 10 degrees celsius. We also saw that there are reoccuring patterns in the weather data via fourier-analysis."
   ]
  },
  {
   "cell_type": "markdown",
   "metadata": {},
   "source": [
    "## Conclusion\n",
    "This software gives a good opportunity to familiarize oneself with working with weather data and gaining first insights into the historical weather data for germany. It provides the tools for surface level analysis of the data and also has functionality to look at more specific things. Overall it produces insightful plots and can be a useful tool for analysis."
   ]
  },
  {
   "cell_type": "markdown",
   "metadata": {},
   "source": [
    "## Commandline Tool Functionality"
   ]
  }
 ],
 "metadata": {
  "kernelspec": {
   "display_name": "Python 3",
   "language": "python",
   "name": "python3"
  },
  "language_info": {
   "codemirror_mode": {
    "name": "ipython",
    "version": 3
   },
   "file_extension": ".py",
   "mimetype": "text/x-python",
   "name": "python",
   "nbconvert_exporter": "python",
   "pygments_lexer": "ipython3",
   "version": "3.7.16"
  }
 },
 "nbformat": 4,
 "nbformat_minor": 1
}
