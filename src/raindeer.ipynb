{
 "cells": [
  {
   "cell_type": "markdown",
   "metadata": {
    "collapsed": true
   },
   "source": [
    "# Raindeer: Weather in Germany over the past centuries"
   ]
  },
  {
   "cell_type": "markdown",
   "metadata": {},
   "source": [
    "## Motivation:\n",
    "The aim of this project is to provide an intuitive tool to visualize and analyze weather data from all german states in a clear and easy manner while providing more advanced analysis tools for users that want to have a more in-depth look at the topic. For this reason there are several functional modes to the tool that can be selected."
   ]
  },
  {
   "cell_type": "markdown",
   "metadata": {},
   "source": [
    "## Setup:"
   ]
  },
  {
   "cell_type": "code",
   "execution_count": 5,
   "metadata": {},
   "outputs": [
    {
     "ename": "SyntaxError",
     "evalue": "invalid syntax (dwd_downloader.py, line 28)",
     "output_type": "error",
     "traceback": [
      "Traceback \u001b[1;36m(most recent call last)\u001b[0m:\n",
      "  File \u001b[0;32m\"C:\\Users\\timow\\anaconda3\\lib\\site-packages\\IPython\\core\\interactiveshell.py\"\u001b[0m, line \u001b[0;32m3437\u001b[0m, in \u001b[0;35mrun_code\u001b[0m\n    exec(code_obj, self.user_global_ns, self.user_ns)\n",
      "  File \u001b[0;32m\"<ipython-input-5-0563d3366fdb>\"\u001b[0m, line \u001b[0;32m6\u001b[0m, in \u001b[0;35m<module>\u001b[0m\n    import user_stories\n",
      "  File \u001b[0;32m\"C:\\Users\\timow\\RSE\\Group_Project\\raindeer\\src\\user_stories.py\"\u001b[0m, line \u001b[0;32m11\u001b[0m, in \u001b[0;35m<module>\u001b[0m\n    from dataframe_helper import dataframe_helper\n",
      "  File \u001b[0;32m\"C:\\Users\\timow\\RSE\\Group_Project\\raindeer\\src\\dataframe_helper.py\"\u001b[0m, line \u001b[0;32m5\u001b[0m, in \u001b[0;35m<module>\u001b[0m\n    from data_helper import data_helper\n",
      "\u001b[1;36m  File \u001b[1;32m\"C:\\Users\\timow\\RSE\\Group_Project\\raindeer\\src\\data_helper.py\"\u001b[1;36m, line \u001b[1;32m4\u001b[1;36m, in \u001b[1;35m<module>\u001b[1;36m\u001b[0m\n\u001b[1;33m    from dwd_downloader import dwd_downloader, input_checker\u001b[0m\n",
      "\u001b[1;36m  File \u001b[1;32m\"C:\\Users\\timow\\RSE\\Group_Project\\raindeer\\src\\dwd_downloader.py\"\u001b[1;36m, line \u001b[1;32m28\u001b[0m\n\u001b[1;33m    match time_dir:\u001b[0m\n\u001b[1;37m          ^\u001b[0m\n\u001b[1;31mSyntaxError\u001b[0m\u001b[1;31m:\u001b[0m invalid syntax\n"
     ]
    }
   ],
   "source": [
    " import argparse\n",
    "#from data_helper import *\n",
    "import pandas as pd\n",
    "from typing import List\n",
    "import argument_preprocessing as argpre\n",
    "import user_stories\n",
    "import utilities as utils"
   ]
  },
  {
   "cell_type": "markdown",
   "metadata": {},
   "source": [
    "## Getting started:\n",
    "One first things one would want to do when analyzing data is to get the data itself from a desired source, in our case this would be the page of the Deutscher Wetterdienst. The software has  functionality to do just that. For this purpose we use the dataframe_helper function, it takes the arguments:\n",
    "\n",
    "\n",
    "``data``: takes either a list or string of possible dataset types used by the Dwd.\n",
    "\n",
    "``interval``: takes either a string or list with the either of following two parameters \"monthly\" or \"annual\"\n",
    "\n",
    "``month_range``: define the months used in dataframe only for interval monthlyoption is True or False - True for Write CSV and False for return DF onlyIn practice it works like this:"
   ]
  },
  {
   "cell_type": "code",
   "execution_count": null,
   "metadata": {},
   "outputs": [],
   "source": []
  },
  {
   "cell_type": "markdown",
   "metadata": {},
   "source": [
    "As we can see this took the desired data from the website of the Dwd and gave us csv tables for all given inputs datasets. This data can now be further processed and used with the other functionalities of the software."
   ]
  },
  {
   "cell_type": "markdown",
   "metadata": {},
   "source": [
    "##  Generating the first plot\n",
    "Now that we have data lets see what we can do with it, for starters, lets just visualize the precipitation in germany for all years that we have data."
   ]
  },
  {
   "cell_type": "code",
   "execution_count": null,
   "metadata": {},
   "outputs": [],
   "source": []
  },
  {
   "cell_type": "markdown",
   "metadata": {},
   "source": [
    "## Plotting multiple weather parameters at once / What are general developments in the weather data?\n",
    "Next lets look at how we can display multiple weather parameters at once to look at trends and correltation in the data. For this we use the functionality ``plot_weather_parameters_annual``. It lets us plot precipitation, sunshine and temperature at once."
   ]
  },
  {
   "cell_type": "code",
   "execution_count": null,
   "metadata": {},
   "outputs": [],
   "source": []
  },
  {
   "cell_type": "markdown",
   "metadata": {},
   "source": [
    "## Forecasting weather data\n",
    "The software allows the user to do simple linear regression forecasting of the current temperature data at hand. This might be useful for short term prediction but is not meant for for time forecasting as a linear regression is not sophisticated enough to do that. To use this functionality we use the function ``predict_temperature_next_year``. It doesn't need any additional input as it uses the full dataset we saved as csv earlier. The result looks like this:"
   ]
  },
  {
   "cell_type": "code",
   "execution_count": null,
   "metadata": {},
   "outputs": [],
   "source": []
  },
  {
   "cell_type": "markdown",
   "metadata": {},
   "source": [
    "## Looking for patterns in the weather data\n",
    "So far we looked at the waether data as a plot of time to find possible patterns or developments and even made a small forecast. We now want to take a different approach to finding patterns in the data, Fourier-Analysis. With Fourier-Analysis we tranform our data from time-basis to frequency-basis, which will show repeating patterns in the data clearly. The function used is ``fourier`` and takes a csv dataframe of choice, it also need to be given the type of weather data used to generate the correct plot handles. Then it does the Fourier-Transformation and displays the frequency data:"
   ]
  },
  {
   "cell_type": "code",
   "execution_count": null,
   "metadata": {},
   "outputs": [],
   "source": []
  },
  {
   "cell_type": "markdown",
   "metadata": {},
   "source": [
    "## Summary"
   ]
  },
  {
   "cell_type": "markdown",
   "metadata": {},
   "source": [
    "## Conclusion"
   ]
  },
  {
   "cell_type": "markdown",
   "metadata": {},
   "source": [
    "## Commandline Tool Functionality"
   ]
  }
 ],
 "metadata": {
  "kernelspec": {
   "display_name": "Python 3",
   "language": "python",
   "name": "python3"
  },
  "language_info": {
   "codemirror_mode": {
    "name": "ipython",
    "version": 3
   },
   "file_extension": ".py",
   "mimetype": "text/x-python",
   "name": "python",
   "nbconvert_exporter": "python",
   "pygments_lexer": "ipython3",
   "version": "3.8.8"
  }
 },
 "nbformat": 4,
 "nbformat_minor": 1
}
